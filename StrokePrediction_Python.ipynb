{
  "nbformat": 4,
  "nbformat_minor": 0,
  "metadata": {
    "colab": {
      "name": "Final_Chu_Lianne.ipynb",
      "provenance": [],
      "collapsed_sections": [],
      "include_colab_link": true
    },
    "kernelspec": {
      "name": "python3",
      "display_name": "Python 3"
    },
    "language_info": {
      "name": "python"
    }
  },
  "cells": [
    {
      "cell_type": "markdown",
      "metadata": {
        "id": "view-in-github",
        "colab_type": "text"
      },
      "source": [
        "<a href=\"https://colab.research.google.com/github/liannekc/StrokePrediction_Python/blob/main/StrokePrediction_Python.ipynb\" target=\"_parent\"><img src=\"https://colab.research.google.com/assets/colab-badge.svg\" alt=\"Open In Colab\"/></a>"
      ]
    },
    {
      "cell_type": "markdown",
      "metadata": {
        "id": "HLZ91mmvMQyl"
      },
      "source": [
        "Dataset:\n",
        "\n",
        "https://www.kaggle.com/fedesoriano/stroke-prediction-dataset\n",
        "\n",
        "Blogpost:\n",
        "\n",
        "https://bridge2.medium.com/what-factors-cause-strokes-f25a6017cd09\n",
        "\n",
        "Github:\n",
        "\n",
        "https://github.com/liannekc?tab=repositories"
      ]
    },
    {
      "cell_type": "code",
      "metadata": {
        "id": "tSFwWjb_ajIK"
      },
      "source": [
        "import pandas as pd\n",
        "import numpy as np\n",
        "import seaborn as sns\n",
        "import matplotlib.pyplot as plt"
      ],
      "execution_count": 3,
      "outputs": []
    },
    {
      "cell_type": "markdown",
      "metadata": {
        "id": "o03HJC60UsTY"
      },
      "source": [
        "Import Stroke Dataset"
      ]
    },
    {
      "cell_type": "code",
      "metadata": {
        "id": "ZzWRBLl6MImY",
        "colab": {
          "base_uri": "https://localhost:8080/",
          "height": 204
        },
        "outputId": "47233182-1506-4db7-f414-1b35c0b1b6d5"
      },
      "source": [
        "df = pd.read_csv(\"healthcare-dataset-stroke-data.csv\")\n",
        "df.head()"
      ],
      "execution_count": 4,
      "outputs": [
        {
          "output_type": "execute_result",
          "data": {
            "text/html": [
              "<div>\n",
              "<style scoped>\n",
              "    .dataframe tbody tr th:only-of-type {\n",
              "        vertical-align: middle;\n",
              "    }\n",
              "\n",
              "    .dataframe tbody tr th {\n",
              "        vertical-align: top;\n",
              "    }\n",
              "\n",
              "    .dataframe thead th {\n",
              "        text-align: right;\n",
              "    }\n",
              "</style>\n",
              "<table border=\"1\" class=\"dataframe\">\n",
              "  <thead>\n",
              "    <tr style=\"text-align: right;\">\n",
              "      <th></th>\n",
              "      <th>id</th>\n",
              "      <th>gender</th>\n",
              "      <th>age</th>\n",
              "      <th>hypertension</th>\n",
              "      <th>heart_disease</th>\n",
              "      <th>ever_married</th>\n",
              "      <th>work_type</th>\n",
              "      <th>Residence_type</th>\n",
              "      <th>avg_glucose_level</th>\n",
              "      <th>bmi</th>\n",
              "      <th>smoking_status</th>\n",
              "      <th>stroke</th>\n",
              "    </tr>\n",
              "  </thead>\n",
              "  <tbody>\n",
              "    <tr>\n",
              "      <th>0</th>\n",
              "      <td>9046</td>\n",
              "      <td>Male</td>\n",
              "      <td>67.0</td>\n",
              "      <td>0</td>\n",
              "      <td>1</td>\n",
              "      <td>Yes</td>\n",
              "      <td>Private</td>\n",
              "      <td>Urban</td>\n",
              "      <td>228.69</td>\n",
              "      <td>36.6</td>\n",
              "      <td>formerly smoked</td>\n",
              "      <td>1</td>\n",
              "    </tr>\n",
              "    <tr>\n",
              "      <th>1</th>\n",
              "      <td>51676</td>\n",
              "      <td>Female</td>\n",
              "      <td>61.0</td>\n",
              "      <td>0</td>\n",
              "      <td>0</td>\n",
              "      <td>Yes</td>\n",
              "      <td>Self-employed</td>\n",
              "      <td>Rural</td>\n",
              "      <td>202.21</td>\n",
              "      <td>NaN</td>\n",
              "      <td>never smoked</td>\n",
              "      <td>1</td>\n",
              "    </tr>\n",
              "    <tr>\n",
              "      <th>2</th>\n",
              "      <td>31112</td>\n",
              "      <td>Male</td>\n",
              "      <td>80.0</td>\n",
              "      <td>0</td>\n",
              "      <td>1</td>\n",
              "      <td>Yes</td>\n",
              "      <td>Private</td>\n",
              "      <td>Rural</td>\n",
              "      <td>105.92</td>\n",
              "      <td>32.5</td>\n",
              "      <td>never smoked</td>\n",
              "      <td>1</td>\n",
              "    </tr>\n",
              "    <tr>\n",
              "      <th>3</th>\n",
              "      <td>60182</td>\n",
              "      <td>Female</td>\n",
              "      <td>49.0</td>\n",
              "      <td>0</td>\n",
              "      <td>0</td>\n",
              "      <td>Yes</td>\n",
              "      <td>Private</td>\n",
              "      <td>Urban</td>\n",
              "      <td>171.23</td>\n",
              "      <td>34.4</td>\n",
              "      <td>smokes</td>\n",
              "      <td>1</td>\n",
              "    </tr>\n",
              "    <tr>\n",
              "      <th>4</th>\n",
              "      <td>1665</td>\n",
              "      <td>Female</td>\n",
              "      <td>79.0</td>\n",
              "      <td>1</td>\n",
              "      <td>0</td>\n",
              "      <td>Yes</td>\n",
              "      <td>Self-employed</td>\n",
              "      <td>Rural</td>\n",
              "      <td>174.12</td>\n",
              "      <td>24.0</td>\n",
              "      <td>never smoked</td>\n",
              "      <td>1</td>\n",
              "    </tr>\n",
              "  </tbody>\n",
              "</table>\n",
              "</div>"
            ],
            "text/plain": [
              "      id  gender   age  ...   bmi   smoking_status stroke\n",
              "0   9046    Male  67.0  ...  36.6  formerly smoked      1\n",
              "1  51676  Female  61.0  ...   NaN     never smoked      1\n",
              "2  31112    Male  80.0  ...  32.5     never smoked      1\n",
              "3  60182  Female  49.0  ...  34.4           smokes      1\n",
              "4   1665  Female  79.0  ...  24.0     never smoked      1\n",
              "\n",
              "[5 rows x 12 columns]"
            ]
          },
          "metadata": {
            "tags": []
          },
          "execution_count": 4
        }
      ]
    },
    {
      "cell_type": "markdown",
      "metadata": {
        "id": "_f1Zzz45UwMV"
      },
      "source": [
        "Exploratory Data Analysis"
      ]
    },
    {
      "cell_type": "code",
      "metadata": {
        "colab": {
          "base_uri": "https://localhost:8080/"
        },
        "id": "3gZHePAsbsG9",
        "outputId": "f3d0b690-432f-4082-bc04-36107aedd139"
      },
      "source": [
        "df.shape"
      ],
      "execution_count": 5,
      "outputs": [
        {
          "output_type": "execute_result",
          "data": {
            "text/plain": [
              "(5110, 12)"
            ]
          },
          "metadata": {
            "tags": []
          },
          "execution_count": 5
        }
      ]
    },
    {
      "cell_type": "code",
      "metadata": {
        "colab": {
          "base_uri": "https://localhost:8080/"
        },
        "id": "tq0dBCHjb8lb",
        "outputId": "02edaa09-4dc9-4c4a-ee54-2a91ade0be65"
      },
      "source": [
        "df.info()"
      ],
      "execution_count": 6,
      "outputs": [
        {
          "output_type": "stream",
          "text": [
            "<class 'pandas.core.frame.DataFrame'>\n",
            "RangeIndex: 5110 entries, 0 to 5109\n",
            "Data columns (total 12 columns):\n",
            " #   Column             Non-Null Count  Dtype  \n",
            "---  ------             --------------  -----  \n",
            " 0   id                 5110 non-null   int64  \n",
            " 1   gender             5110 non-null   object \n",
            " 2   age                5110 non-null   float64\n",
            " 3   hypertension       5110 non-null   int64  \n",
            " 4   heart_disease      5110 non-null   int64  \n",
            " 5   ever_married       5110 non-null   object \n",
            " 6   work_type          5110 non-null   object \n",
            " 7   Residence_type     5110 non-null   object \n",
            " 8   avg_glucose_level  5110 non-null   float64\n",
            " 9   bmi                4909 non-null   float64\n",
            " 10  smoking_status     5110 non-null   object \n",
            " 11  stroke             5110 non-null   int64  \n",
            "dtypes: float64(3), int64(4), object(5)\n",
            "memory usage: 479.2+ KB\n"
          ],
          "name": "stdout"
        }
      ]
    },
    {
      "cell_type": "code",
      "metadata": {
        "colab": {
          "base_uri": "https://localhost:8080/"
        },
        "id": "tz0TOYfZcA9b",
        "outputId": "7644287d-dd95-4fbd-df70-d7eb27813218"
      },
      "source": [
        "df.dtypes"
      ],
      "execution_count": 7,
      "outputs": [
        {
          "output_type": "execute_result",
          "data": {
            "text/plain": [
              "id                     int64\n",
              "gender                object\n",
              "age                  float64\n",
              "hypertension           int64\n",
              "heart_disease          int64\n",
              "ever_married          object\n",
              "work_type             object\n",
              "Residence_type        object\n",
              "avg_glucose_level    float64\n",
              "bmi                  float64\n",
              "smoking_status        object\n",
              "stroke                 int64\n",
              "dtype: object"
            ]
          },
          "metadata": {
            "tags": []
          },
          "execution_count": 7
        }
      ]
    },
    {
      "cell_type": "code",
      "metadata": {
        "colab": {
          "base_uri": "https://localhost:8080/",
          "height": 297
        },
        "id": "eEX6oAS3cEPG",
        "outputId": "ef7aaf0a-1639-4178-c1dc-b34a24a08b61"
      },
      "source": [
        "df.describe()"
      ],
      "execution_count": 8,
      "outputs": [
        {
          "output_type": "execute_result",
          "data": {
            "text/html": [
              "<div>\n",
              "<style scoped>\n",
              "    .dataframe tbody tr th:only-of-type {\n",
              "        vertical-align: middle;\n",
              "    }\n",
              "\n",
              "    .dataframe tbody tr th {\n",
              "        vertical-align: top;\n",
              "    }\n",
              "\n",
              "    .dataframe thead th {\n",
              "        text-align: right;\n",
              "    }\n",
              "</style>\n",
              "<table border=\"1\" class=\"dataframe\">\n",
              "  <thead>\n",
              "    <tr style=\"text-align: right;\">\n",
              "      <th></th>\n",
              "      <th>id</th>\n",
              "      <th>age</th>\n",
              "      <th>hypertension</th>\n",
              "      <th>heart_disease</th>\n",
              "      <th>avg_glucose_level</th>\n",
              "      <th>bmi</th>\n",
              "      <th>stroke</th>\n",
              "    </tr>\n",
              "  </thead>\n",
              "  <tbody>\n",
              "    <tr>\n",
              "      <th>count</th>\n",
              "      <td>5110.000000</td>\n",
              "      <td>5110.000000</td>\n",
              "      <td>5110.000000</td>\n",
              "      <td>5110.000000</td>\n",
              "      <td>5110.000000</td>\n",
              "      <td>4909.000000</td>\n",
              "      <td>5110.000000</td>\n",
              "    </tr>\n",
              "    <tr>\n",
              "      <th>mean</th>\n",
              "      <td>36517.829354</td>\n",
              "      <td>43.226614</td>\n",
              "      <td>0.097456</td>\n",
              "      <td>0.054012</td>\n",
              "      <td>106.147677</td>\n",
              "      <td>28.893237</td>\n",
              "      <td>0.048728</td>\n",
              "    </tr>\n",
              "    <tr>\n",
              "      <th>std</th>\n",
              "      <td>21161.721625</td>\n",
              "      <td>22.612647</td>\n",
              "      <td>0.296607</td>\n",
              "      <td>0.226063</td>\n",
              "      <td>45.283560</td>\n",
              "      <td>7.854067</td>\n",
              "      <td>0.215320</td>\n",
              "    </tr>\n",
              "    <tr>\n",
              "      <th>min</th>\n",
              "      <td>67.000000</td>\n",
              "      <td>0.080000</td>\n",
              "      <td>0.000000</td>\n",
              "      <td>0.000000</td>\n",
              "      <td>55.120000</td>\n",
              "      <td>10.300000</td>\n",
              "      <td>0.000000</td>\n",
              "    </tr>\n",
              "    <tr>\n",
              "      <th>25%</th>\n",
              "      <td>17741.250000</td>\n",
              "      <td>25.000000</td>\n",
              "      <td>0.000000</td>\n",
              "      <td>0.000000</td>\n",
              "      <td>77.245000</td>\n",
              "      <td>23.500000</td>\n",
              "      <td>0.000000</td>\n",
              "    </tr>\n",
              "    <tr>\n",
              "      <th>50%</th>\n",
              "      <td>36932.000000</td>\n",
              "      <td>45.000000</td>\n",
              "      <td>0.000000</td>\n",
              "      <td>0.000000</td>\n",
              "      <td>91.885000</td>\n",
              "      <td>28.100000</td>\n",
              "      <td>0.000000</td>\n",
              "    </tr>\n",
              "    <tr>\n",
              "      <th>75%</th>\n",
              "      <td>54682.000000</td>\n",
              "      <td>61.000000</td>\n",
              "      <td>0.000000</td>\n",
              "      <td>0.000000</td>\n",
              "      <td>114.090000</td>\n",
              "      <td>33.100000</td>\n",
              "      <td>0.000000</td>\n",
              "    </tr>\n",
              "    <tr>\n",
              "      <th>max</th>\n",
              "      <td>72940.000000</td>\n",
              "      <td>82.000000</td>\n",
              "      <td>1.000000</td>\n",
              "      <td>1.000000</td>\n",
              "      <td>271.740000</td>\n",
              "      <td>97.600000</td>\n",
              "      <td>1.000000</td>\n",
              "    </tr>\n",
              "  </tbody>\n",
              "</table>\n",
              "</div>"
            ],
            "text/plain": [
              "                 id          age  ...          bmi       stroke\n",
              "count   5110.000000  5110.000000  ...  4909.000000  5110.000000\n",
              "mean   36517.829354    43.226614  ...    28.893237     0.048728\n",
              "std    21161.721625    22.612647  ...     7.854067     0.215320\n",
              "min       67.000000     0.080000  ...    10.300000     0.000000\n",
              "25%    17741.250000    25.000000  ...    23.500000     0.000000\n",
              "50%    36932.000000    45.000000  ...    28.100000     0.000000\n",
              "75%    54682.000000    61.000000  ...    33.100000     0.000000\n",
              "max    72940.000000    82.000000  ...    97.600000     1.000000\n",
              "\n",
              "[8 rows x 7 columns]"
            ]
          },
          "metadata": {
            "tags": []
          },
          "execution_count": 8
        }
      ]
    },
    {
      "cell_type": "code",
      "metadata": {
        "colab": {
          "base_uri": "https://localhost:8080/"
        },
        "id": "0tezF5WFdPrn",
        "outputId": "6f55992e-755f-448f-e217-f0632558d81c"
      },
      "source": [
        "df.columns"
      ],
      "execution_count": 9,
      "outputs": [
        {
          "output_type": "execute_result",
          "data": {
            "text/plain": [
              "Index(['id', 'gender', 'age', 'hypertension', 'heart_disease', 'ever_married',\n",
              "       'work_type', 'Residence_type', 'avg_glucose_level', 'bmi',\n",
              "       'smoking_status', 'stroke'],\n",
              "      dtype='object')"
            ]
          },
          "metadata": {
            "tags": []
          },
          "execution_count": 9
        }
      ]
    },
    {
      "cell_type": "code",
      "metadata": {
        "id": "SgIuNC7RcH9g"
      },
      "source": [
        "# drop unecessary columns\n",
        "df = df.drop('id', axis=1)"
      ],
      "execution_count": 10,
      "outputs": []
    },
    {
      "cell_type": "code",
      "metadata": {
        "colab": {
          "base_uri": "https://localhost:8080/"
        },
        "id": "CuJdhbiscIo0",
        "outputId": "031affca-9014-485b-d646-11bf59f29cf8"
      },
      "source": [
        "# identify any null values\n",
        "df.isna().sum()"
      ],
      "execution_count": 11,
      "outputs": [
        {
          "output_type": "execute_result",
          "data": {
            "text/plain": [
              "gender                 0\n",
              "age                    0\n",
              "hypertension           0\n",
              "heart_disease          0\n",
              "ever_married           0\n",
              "work_type              0\n",
              "Residence_type         0\n",
              "avg_glucose_level      0\n",
              "bmi                  201\n",
              "smoking_status         0\n",
              "stroke                 0\n",
              "dtype: int64"
            ]
          },
          "metadata": {
            "tags": []
          },
          "execution_count": 11
        }
      ]
    },
    {
      "cell_type": "code",
      "metadata": {
        "colab": {
          "base_uri": "https://localhost:8080/"
        },
        "id": "hphpnLsxcdQg",
        "outputId": "6d115502-a87a-4307-d3ae-f5f7039890c7"
      },
      "source": [
        "# Replace null value with mean\n",
        "df['bmi'].fillna(df['bmi'].mean(), inplace=True)\n",
        "\n",
        "# identify null values again\n",
        "df.isnull().sum()"
      ],
      "execution_count": 12,
      "outputs": [
        {
          "output_type": "execute_result",
          "data": {
            "text/plain": [
              "gender               0\n",
              "age                  0\n",
              "hypertension         0\n",
              "heart_disease        0\n",
              "ever_married         0\n",
              "work_type            0\n",
              "Residence_type       0\n",
              "avg_glucose_level    0\n",
              "bmi                  0\n",
              "smoking_status       0\n",
              "stroke               0\n",
              "dtype: int64"
            ]
          },
          "metadata": {
            "tags": []
          },
          "execution_count": 12
        }
      ]
    },
    {
      "cell_type": "markdown",
      "metadata": {
        "id": "dOezRDi_d0Ec"
      },
      "source": [
        "Further Explore Feature and Target Variables"
      ]
    },
    {
      "cell_type": "code",
      "metadata": {
        "colab": {
          "base_uri": "https://localhost:8080/",
          "height": 925
        },
        "id": "T1sf23lbcrUa",
        "outputId": "8c9fa899-01b9-4f45-9f97-a4d1a220db45"
      },
      "source": [
        "# count plot of all categorial features\n",
        "myFig,axes = plt.subplots(3,3,figsize = (18,14))\n",
        "myFig.suptitle(\"Count Plot of Categorial Features\")\n",
        "\n",
        "sns.countplot(ax=axes[0,0],data=df,x='gender')\n",
        "sns.countplot(ax=axes[0,1],data=df,x='hypertension')\n",
        "sns.countplot(ax=axes[0,2],data=df,x='heart_disease')\n",
        "sns.countplot(ax=axes[1,0],data=df,x='ever_married')\n",
        "sns.countplot(ax=axes[1,1],data=df,x='work_type')\n",
        "sns.countplot(ax=axes[1,2],data=df,x='Residence_type')\n",
        "sns.countplot(ax=axes[2,0],data=df,x='smoking_status')\n",
        "\n",
        "plt.show()\n"
      ],
      "execution_count": 13,
      "outputs": [
        {
          "output_type": "display_data",
          "data": {
            "image/png": "[encoded data removed]",
            "text/plain": [
              "<Figure size 1296x1008 with 9 Axes>"
            ]
          },
          "metadata": {
            "tags": [],
            "needs_background": "light"
          }
        }
      ]
    },
    {
      "cell_type": "markdown",
      "metadata": {
        "id": "sLkVaJF5odDe"
      },
      "source": [
        "We can observe that a higher proportion of females are represented and most patients do not have hypertension of heart disease. Most patients are have also been married and work in the private sector."
      ]
    },
    {
      "cell_type": "code",
      "metadata": {
        "colab": {
          "base_uri": "https://localhost:8080/",
          "height": 1000
        },
        "id": "MvGQwAndhGVC",
        "outputId": "157bd4dd-2b8f-4be9-f9b1-24f2049353ba"
      },
      "source": [
        "# distribution plots of continuous features\n",
        "\n",
        "# distribution plot of age\n",
        "sns.displot(df['age'], bins=10, kde=True)\n",
        "plt.show()\n",
        "# distribution plot of average glucose level\n",
        "sns.displot(df['avg_glucose_level'], bins=10, kde=True)\n",
        "plt.show()\n",
        "# distribution plot of bmi\n",
        "sns.displot(df['bmi'], bins=10, kde=True)\n",
        "plt.show()"
      ],
      "execution_count": 12,
      "outputs": [
        {
          "output_type": "display_data",
          "data": {
            "image/png": "[encoded data removed]",
            "text/plain": [
              "<Figure size 360x360 with 1 Axes>"
            ]
          },
          "metadata": {
            "tags": [],
            "needs_background": "light"
          }
        },
        {
          "output_type": "display_data",
          "data": {
            "image/png": "[encoded data removed]",
            "text/plain": [
              "<Figure size 360x360 with 1 Axes>"
            ]
          },
          "metadata": {
            "tags": [],
            "needs_background": "light"
          }
        },
        {
          "output_type": "display_data",
          "data": {
            "image/png": "[encoded data removed]",
            "text/plain": [
              "<Figure size 360x360 with 1 Axes>"
            ]
          },
          "metadata": {
            "tags": [],
            "needs_background": "light"
          }
        }
      ]
    },
    {
      "cell_type": "markdown",
      "metadata": {
        "id": "bYtJV-_M86-g"
      },
      "source": [
        "We can observe that the majority of the patients are in the 40–60 age range, have an average glucose level of under 100 and a BMI between 20–40."
      ]
    },
    {
      "cell_type": "code",
      "metadata": {
        "id": "UqVLFxmIGZo-",
        "colab": {
          "base_uri": "https://localhost:8080/"
        },
        "outputId": "65c98ca5-dcd1-40d8-be2d-53cae2a65024"
      },
      "source": [
        "# filter out a dataset with stroke patients only\n",
        "df_stroke = df[df['stroke']>0]\n",
        "df_stroke.shape\n",
        "print(df_stroke)"
      ],
      "execution_count": 14,
      "outputs": [
        {
          "output_type": "stream",
          "text": [
            "     gender   age  hypertension  ...        bmi   smoking_status stroke\n",
            "0      Male  67.0             0  ...  36.600000  formerly smoked      1\n",
            "1    Female  61.0             0  ...  28.893237     never smoked      1\n",
            "2      Male  80.0             0  ...  32.500000     never smoked      1\n",
            "3    Female  49.0             0  ...  34.400000           smokes      1\n",
            "4    Female  79.0             1  ...  24.000000     never smoked      1\n",
            "..      ...   ...           ...  ...        ...              ...    ...\n",
            "244    Male  57.0             0  ...  36.700000          Unknown      1\n",
            "245  Female  14.0             0  ...  30.900000          Unknown      1\n",
            "246  Female  75.0             0  ...  29.300000  formerly smoked      1\n",
            "247    Male  71.0             1  ...  28.893237          Unknown      1\n",
            "248  Female  78.0             0  ...  19.600000          Unknown      1\n",
            "\n",
            "[249 rows x 11 columns]\n"
          ],
          "name": "stdout"
        }
      ]
    },
    {
      "cell_type": "code",
      "metadata": {
        "colab": {
          "base_uri": "https://localhost:8080/",
          "height": 925
        },
        "id": "wNlnv8DAGbNN",
        "outputId": "a205d42f-9073-40fa-fad3-d6c47f2e1550"
      },
      "source": [
        "# count plot of all categorial features (those who had a stroke)\n",
        "myFig1,axes = plt.subplots(3,3,figsize = (18,14))\n",
        "myFig1.suptitle(\"Count Plot of Categorial Features - With Stroke\")\n",
        "\n",
        "sns.countplot(ax=axes[0,0],data=df_stroke,x='gender')\n",
        "sns.countplot(ax=axes[0,1],data=df_stroke,x='hypertension')\n",
        "sns.countplot(ax=axes[0,2],data=df_stroke,x='heart_disease')\n",
        "sns.countplot(ax=axes[1,0],data=df_stroke,x='ever_married')\n",
        "sns.countplot(ax=axes[1,1],data=df_stroke,x='work_type')\n",
        "sns.countplot(ax=axes[1,2],data=df_stroke,x='Residence_type')\n",
        "sns.countplot(ax=axes[2,0],data=df_stroke,x='smoking_status')\n",
        "\n",
        "plt.show()"
      ],
      "execution_count": 15,
      "outputs": [
        {
          "output_type": "display_data",
          "data": {
            "image/png": "[encoded data removed]",
            "text/plain": [
              "<Figure size 1296x1008 with 9 Axes>"
            ]
          },
          "metadata": {
            "tags": [],
            "needs_background": "light"
          }
        }
      ]
    },
    {
      "cell_type": "markdown",
      "metadata": {
        "id": "9lRxQ7-y8-D7"
      },
      "source": [
        "We can observe that most stroke patients are females with no history of history of hypertension of heart disease. Those who were formerly smokers also have a higher chance of getting a stroke, but those who have never smoked also have a high chance."
      ]
    },
    {
      "cell_type": "code",
      "metadata": {
        "colab": {
          "base_uri": "https://localhost:8080/",
          "height": 1000
        },
        "id": "1HvskyGzHknC",
        "outputId": "186ef5a3-024f-4878-81bb-3a75f2db5f4f"
      },
      "source": [
        "# distribution plots of continuous features (those who had a stroke)\n",
        "\n",
        "# distribution plot of age\n",
        "sns.displot(df_stroke['age'], bins=10, kde=True)\n",
        "plt.show()\n",
        "# distribution plot of average glucose level\n",
        "sns.displot(df_stroke['avg_glucose_level'], bins=10, kde=True)\n",
        "plt.show()\n",
        "# distribution plot of bmi\n",
        "sns.displot(df_stroke['bmi'], bins=10, kde=True)\n",
        "plt.show()"
      ],
      "execution_count": 16,
      "outputs": [
        {
          "output_type": "display_data",
          "data": {
            "image/png": "[encoded data removed]",
            "text/plain": [
              "<Figure size 360x360 with 1 Axes>"
            ]
          },
          "metadata": {
            "tags": [],
            "needs_background": "light"
          }
        },
        {
          "output_type": "display_data",
          "data": {
            "image/png": "[encoded data removed]",
            "text/plain": [
              "<Figure size 360x360 with 1 Axes>"
            ]
          },
          "metadata": {
            "tags": [],
            "needs_background": "light"
          }
        },
        {
          "output_type": "display_data",
          "data": {
            "image/png": "[encoded data removed]",
            "text/plain": [
              "<Figure size 360x360 with 1 Axes>"
            ]
          },
          "metadata": {
            "tags": [],
            "needs_background": "light"
          }
        }
      ]
    },
    {
      "cell_type": "markdown",
      "metadata": {
        "id": "L_W9f_BE9Af8"
      },
      "source": [
        "In terms of age, the older you age, the higher chances of getting a stroke. Those with a higher glucose level and a BMI between 30–35 are observed to have a higher chance as well."
      ]
    },
    {
      "cell_type": "code",
      "metadata": {
        "colab": {
          "base_uri": "https://localhost:8080/"
        },
        "id": "ksJ-cCx9cXVi",
        "outputId": "b58efe0a-015e-48ff-a28b-e7490ccf2770"
      },
      "source": [
        "# Convert all categorical variables into dummy variables \n",
        "df = pd.get_dummies(df, columns=['gender', 'hypertension', 'heart_disease', 'ever_married',\n",
        "       'work_type', 'Residence_type','smoking_status'])\n",
        "print(df.head())"
      ],
      "execution_count": 17,
      "outputs": [
        {
          "output_type": "stream",
          "text": [
            "    age  avg_glucose_level  ...  smoking_status_never smoked  smoking_status_smokes\n",
            "0  67.0             228.69  ...                            0                      0\n",
            "1  61.0             202.21  ...                            1                      0\n",
            "2  80.0             105.92  ...                            1                      0\n",
            "3  49.0             171.23  ...                            0                      1\n",
            "4  79.0             174.12  ...                            1                      0\n",
            "\n",
            "[5 rows x 24 columns]\n"
          ],
          "name": "stdout"
        }
      ]
    },
    {
      "cell_type": "code",
      "metadata": {
        "id": "QAHv2OvQge6R"
      },
      "source": [
        "# reorder columns with stroke (target) variable in column 0\n",
        "df = df[['stroke','age', 'avg_glucose_level', 'bmi', 'gender_Female',\n",
        "       'gender_Male', 'gender_Other', 'hypertension_0', 'hypertension_1',\n",
        "       'heart_disease_0', 'heart_disease_1', 'ever_married_No',\n",
        "       'ever_married_Yes', 'work_type_Govt_job', 'work_type_Never_worked',\n",
        "       'work_type_Private', 'work_type_Self-employed', 'work_type_children',\n",
        "       'Residence_type_Rural', 'Residence_type_Urban',\n",
        "       'smoking_status_Unknown', 'smoking_status_formerly smoked',\n",
        "       'smoking_status_never smoked', 'smoking_status_smokes']]"
      ],
      "execution_count": 19,
      "outputs": []
    },
    {
      "cell_type": "code",
      "metadata": {
        "colab": {
          "base_uri": "https://localhost:8080/"
        },
        "id": "cPaBCVhsfbvx",
        "outputId": "d27a7d4b-92e4-43d8-de6f-c4e611d1f8e2"
      },
      "source": [
        "# identify feature and target variable\n",
        "# Feature variables\n",
        "X = df.iloc[:, 1:]\n",
        "print(X)\n",
        "# target variables\n",
        "y = df.iloc[:, 0]\n",
        "print(y)"
      ],
      "execution_count": 20,
      "outputs": [
        {
          "output_type": "stream",
          "text": [
            "       age  ...  smoking_status_smokes\n",
            "0     67.0  ...                      0\n",
            "1     61.0  ...                      0\n",
            "2     80.0  ...                      0\n",
            "3     49.0  ...                      1\n",
            "4     79.0  ...                      0\n",
            "...    ...  ...                    ...\n",
            "5105  80.0  ...                      0\n",
            "5106  81.0  ...                      0\n",
            "5107  35.0  ...                      0\n",
            "5108  51.0  ...                      0\n",
            "5109  44.0  ...                      0\n",
            "\n",
            "[5110 rows x 23 columns]\n",
            "0       1\n",
            "1       1\n",
            "2       1\n",
            "3       1\n",
            "4       1\n",
            "       ..\n",
            "5105    0\n",
            "5106    0\n",
            "5107    0\n",
            "5108    0\n",
            "5109    0\n",
            "Name: stroke, Length: 5110, dtype: int64\n"
          ],
          "name": "stdout"
        }
      ]
    },
    {
      "cell_type": "code",
      "metadata": {
        "id": "7rOhX7t5fXQL"
      },
      "source": [
        "# split data into training and testing\n",
        "from sklearn.model_selection import train_test_split\n",
        "\n",
        "X_train, X_test, y_train, y_test = train_test_split(X, y, test_size=0.3, random_state=42)"
      ],
      "execution_count": 21,
      "outputs": []
    },
    {
      "cell_type": "code",
      "metadata": {
        "colab": {
          "base_uri": "https://localhost:8080/",
          "height": 296
        },
        "id": "JL8zJapQY2sE",
        "outputId": "d6d1b07f-fa3b-415e-f58f-94c0defe6cba"
      },
      "source": [
        "# observe imbalanced target variable data\n",
        "sns.countplot(data=df,x='stroke')"
      ],
      "execution_count": 22,
      "outputs": [
        {
          "output_type": "execute_result",
          "data": {
            "text/plain": [
              "<matplotlib.axes._subplots.AxesSubplot at 0x7f0a8be102d0>"
            ]
          },
          "metadata": {
            "tags": []
          },
          "execution_count": 22
        },
        {
          "output_type": "display_data",
          "data": {
            "image/png": "[encoded data removed]",
            "text/plain": [
              "<Figure size 432x288 with 1 Axes>"
            ]
          },
          "metadata": {
            "tags": [],
            "needs_background": "light"
          }
        }
      ]
    },
    {
      "cell_type": "code",
      "metadata": {
        "id": "aBlRYkSOY2nZ",
        "colab": {
          "base_uri": "https://localhost:8080/"
        },
        "outputId": "17d4370c-1e36-4947-9191-b6905776f8f5"
      },
      "source": [
        "# Use smote to deal with oversampling\n",
        "from imblearn.over_sampling import SMOTE\n",
        "\n",
        "sm_oversample = SMOTE(random_state=42)\n",
        "X_train,y_train = sm_oversample.fit_resample(X_train, y_train.ravel())"
      ],
      "execution_count": 23,
      "outputs": [
        {
          "output_type": "stream",
          "text": [
            "/usr/local/lib/python3.7/dist-packages/sklearn/externals/six.py:31: FutureWarning: The module is deprecated in version 0.21 and will be removed in version 0.23 since we've dropped support for Python 2.7. Please rely on the official version of six (https://pypi.org/project/six/).\n",
            "  \"(https://pypi.org/project/six/).\", FutureWarning)\n",
            "/usr/local/lib/python3.7/dist-packages/sklearn/utils/deprecation.py:144: FutureWarning: The sklearn.neighbors.base module is  deprecated in version 0.22 and will be removed in version 0.24. The corresponding classes / functions should instead be imported from sklearn.neighbors. Anything that cannot be imported from sklearn.neighbors is now part of the private API.\n",
            "  warnings.warn(message, FutureWarning)\n",
            "/usr/local/lib/python3.7/dist-packages/sklearn/utils/deprecation.py:87: FutureWarning: Function safe_indexing is deprecated; safe_indexing is deprecated in version 0.22 and will be removed in version 0.24.\n",
            "  warnings.warn(msg, category=FutureWarning)\n"
          ],
          "name": "stderr"
        }
      ]
    },
    {
      "cell_type": "code",
      "metadata": {
        "colab": {
          "base_uri": "https://localhost:8080/",
          "height": 265
        },
        "id": "XtV-hUZgBFC1",
        "outputId": "8120054f-0c76-4fee-937a-b7bbc1ba067b"
      },
      "source": [
        "# after balancing the data\n",
        "sns.countplot(x=y_train);"
      ],
      "execution_count": 24,
      "outputs": [
        {
          "output_type": "display_data",
          "data": {
            "image/png": "[encoded data removed]",
            "text/plain": [
              "<Figure size 432x288 with 1 Axes>"
            ]
          },
          "metadata": {
            "tags": [],
            "needs_background": "light"
          }
        }
      ]
    },
    {
      "cell_type": "markdown",
      "metadata": {
        "id": "JyvwISHYVZTl"
      },
      "source": [
        "# Machine Learning Models:"
      ]
    },
    {
      "cell_type": "markdown",
      "metadata": {
        "id": "swNbjmosqOmI"
      },
      "source": [
        "Logistic Regression"
      ]
    },
    {
      "cell_type": "code",
      "metadata": {
        "colab": {
          "base_uri": "https://localhost:8080/"
        },
        "id": "1tdiRkq4pZaw",
        "outputId": "ecb3230a-0c1f-43ad-d1c6-805ccd0dbec1"
      },
      "source": [
        "from sklearn.linear_model import LogisticRegression\n",
        "from sklearn import metrics\n",
        "\n",
        "log_model = LogisticRegression(random_state=42)\n",
        "log_model.fit(X_train, y_train)\n",
        "\n",
        "y_pred_log = log_model.predict(X_test)\n",
        "\n",
        "print(\"Logistic Regression Accuracy Score:\",metrics.accuracy_score(y_test, y_pred_log))"
      ],
      "execution_count": 34,
      "outputs": [
        {
          "output_type": "stream",
          "text": [
            "Logisitc Regression Accuracy Score: 0.7566862361382909\n"
          ],
          "name": "stdout"
        },
        {
          "output_type": "stream",
          "text": [
            "/usr/local/lib/python3.7/dist-packages/sklearn/linear_model/_logistic.py:940: ConvergenceWarning: lbfgs failed to converge (status=1):\n",
            "STOP: TOTAL NO. of ITERATIONS REACHED LIMIT.\n",
            "\n",
            "Increase the number of iterations (max_iter) or scale the data as shown in:\n",
            "    https://scikit-learn.org/stable/modules/preprocessing.html\n",
            "Please also refer to the documentation for alternative solver options:\n",
            "    https://scikit-learn.org/stable/modules/linear_model.html#logistic-regression\n",
            "  extra_warning_msg=_LOGISTIC_SOLVER_CONVERGENCE_MSG)\n"
          ],
          "name": "stderr"
        }
      ]
    },
    {
      "cell_type": "code",
      "metadata": {
        "colab": {
          "base_uri": "https://localhost:8080/",
          "height": 313
        },
        "id": "LBTUbmWZqxJA",
        "outputId": "067b13c9-ed97-413a-e854-26e46c71cf0d"
      },
      "source": [
        "# Plot and print confusion matrix\n",
        "log_matrix = metrics.confusion_matrix(y_test, y_pred_log)\n",
        "print(log_matrix)\n",
        "metrics.plot_confusion_matrix(log_model, X_test, y_test)\n",
        "plt.show()"
      ],
      "execution_count": 35,
      "outputs": [
        {
          "output_type": "stream",
          "text": [
            "[[1096  348]\n",
            " [  25   64]]\n"
          ],
          "name": "stdout"
        },
        {
          "output_type": "display_data",
          "data": {
            "image/png": "[encoded data removed]",
            "text/plain": [
              "<Figure size 432x288 with 2 Axes>"
            ]
          },
          "metadata": {
            "tags": [],
            "needs_background": "light"
          }
        }
      ]
    },
    {
      "cell_type": "markdown",
      "metadata": {
        "id": "t8sTLVHkrMcZ"
      },
      "source": [
        "Decision Tree"
      ]
    },
    {
      "cell_type": "code",
      "metadata": {
        "colab": {
          "base_uri": "https://localhost:8080/"
        },
        "id": "T1gtVr8WaQei",
        "outputId": "83fcedcb-582a-4231-cf17-244b62dd2bb3"
      },
      "source": [
        "from sklearn.tree import DecisionTreeClassifier\n",
        "\n",
        "dt_model = DecisionTreeClassifier(criterion='entropy',random_state=42)\n",
        "dt_model.fit(X_train, y_train)\n",
        "\n",
        "y_pred_dt = dt_model.predict(X_test)\n",
        "\n",
        "print(\"Decison Tree Accuracy Score: \", metrics.accuracy_score(y_test, y_pred_dt))"
      ],
      "execution_count": 43,
      "outputs": [
        {
          "output_type": "stream",
          "text": [
            "Decison Tree Accuracy Score:  0.903457273320287\n"
          ],
          "name": "stdout"
        }
      ]
    },
    {
      "cell_type": "code",
      "metadata": {
        "colab": {
          "base_uri": "https://localhost:8080/",
          "height": 313
        },
        "id": "_rhOGZyfrMJg",
        "outputId": "58225f55-eb11-4c78-d8c3-7cf329ad5d34"
      },
      "source": [
        "# Plot and print confusion matrix\n",
        "dt_matrix = metrics.confusion_matrix(y_test, y_pred_dt)\n",
        "print(dt_matrix)\n",
        "\n",
        "\n",
        "metrics.plot_confusion_matrix(dt_model, X_test, y_test)\n",
        "plt.show()"
      ],
      "execution_count": 44,
      "outputs": [
        {
          "output_type": "stream",
          "text": [
            "[[1375   69]\n",
            " [  79   10]]\n"
          ],
          "name": "stdout"
        },
        {
          "output_type": "display_data",
          "data": {
            "image/png": "[encoded data removed]",
            "text/plain": [
              "<Figure size 432x288 with 2 Axes>"
            ]
          },
          "metadata": {
            "tags": [],
            "needs_background": "light"
          }
        }
      ]
    },
    {
      "cell_type": "markdown",
      "metadata": {
        "id": "cu5d4JMAudRY"
      },
      "source": [
        "Bagging"
      ]
    },
    {
      "cell_type": "code",
      "metadata": {
        "colab": {
          "base_uri": "https://localhost:8080/"
        },
        "id": "B6-nukl6uhi8",
        "outputId": "25d5cc63-63fc-4238-a807-4ebcb07f9a68"
      },
      "source": [
        "from sklearn.ensemble import BaggingClassifier\n",
        "from sklearn.metrics import accuracy_score\n",
        "\n",
        "\n",
        "model_bagging = BaggingClassifier(base_estimator = DecisionTreeClassifier(), n_estimators=10, random_state = 42)\n",
        "model_bagging.fit(X_train, y_train)\n",
        "y_pred_bagging = model_bagging.predict(X_test)\n",
        "\n",
        "\n",
        "print(\"Bagging Accuracy Score: \", metrics.accuracy_score(y_test, y_pred_bagging))"
      ],
      "execution_count": 45,
      "outputs": [
        {
          "output_type": "stream",
          "text": [
            "Bagging Accuracy Score:  0.9386823222439661\n"
          ],
          "name": "stdout"
        }
      ]
    },
    {
      "cell_type": "markdown",
      "metadata": {
        "id": "WoKfDD8AupAa"
      },
      "source": [
        "Random Forest"
      ]
    },
    {
      "cell_type": "code",
      "metadata": {
        "colab": {
          "base_uri": "https://localhost:8080/"
        },
        "id": "0d7lW9BWumOJ",
        "outputId": "01c9dda9-2d4b-4ea7-8e99-6f74de309770"
      },
      "source": [
        "from sklearn.ensemble import RandomForestClassifier\n",
        "\n",
        "model_rf = RandomForestClassifier(n_estimators=100, max_features=7, random_state=42)\n",
        "model_rf.fit(X_train, y_train)\n",
        "\n",
        "y_pred_rf = model_rf.predict(X_test)\n",
        "\n",
        "print(\"Random Forest Accuracy Score: \", metrics.accuracy_score(y_test, y_pred_rf))\n"
      ],
      "execution_count": 46,
      "outputs": [
        {
          "output_type": "stream",
          "text": [
            "Random Forest Accuracy Score:  0.9412915851272016\n"
          ],
          "name": "stdout"
        }
      ]
    },
    {
      "cell_type": "markdown",
      "metadata": {
        "id": "81YEj4lRuwPI"
      },
      "source": [
        "Boosting"
      ]
    },
    {
      "cell_type": "code",
      "metadata": {
        "colab": {
          "base_uri": "https://localhost:8080/"
        },
        "id": "J25EwQNguxI-",
        "outputId": "cce26141-2600-4ed1-83e1-86c1b26c861b"
      },
      "source": [
        "from sklearn.ensemble import AdaBoostClassifier\n",
        "\n",
        "\n",
        "base_est = DecisionTreeClassifier (max_depth =4)\n",
        "ada_boost1 = AdaBoostClassifier(base_est, n_estimators=200, random_state=42, learning_rate=.05)\n",
        "ada_boost1.fit(X_train, y_train)\n",
        "\n",
        "y_pred_ada = ada_boost1.predict(X_test)\n",
        "\n",
        "\n",
        "print(\"Boosting Accuracy Score: \", metrics.accuracy_score(y_test, y_pred_ada))\n"
      ],
      "execution_count": 47,
      "outputs": [
        {
          "output_type": "stream",
          "text": [
            "Boosting Accuracy Score:  0.9399869536855838\n"
          ],
          "name": "stdout"
        }
      ]
    },
    {
      "cell_type": "code",
      "metadata": {
        "colab": {
          "base_uri": "https://localhost:8080/"
        },
        "id": "D2zNGb-UbuX0",
        "outputId": "d7445fc2-fd50-41ff-c6a4-0139a139d80a"
      },
      "source": [
        "print(\"Summary of Accuracy Scores\")\n",
        "print(\"Logistic Regression Accuracy Score:\",metrics.accuracy_score(y_test, y_pred_log))\n",
        "print(\"Decison Tree Accuracy Score: \", metrics.accuracy_score(y_test, y_pred_dt))\n",
        "print(\"Bagging Accuracy Score: \", metrics.accuracy_score(y_test, y_pred_bagging))\n",
        "print(\"Random Forest Accuracy Score: \", metrics.accuracy_score(y_test, y_pred_rf))\n",
        "print(\"Boosting Accuracy Score: \", metrics.accuracy_score(y_test, y_pred_ada))"
      ],
      "execution_count": 48,
      "outputs": [
        {
          "output_type": "stream",
          "text": [
            "Summary of Accuracy Scores\n",
            "Logisitc Regression Accuracy Score: 0.7566862361382909\n",
            "Decison Tree Accuracy Score:  0.903457273320287\n",
            "Bagging Accuracy Score:  0.9386823222439661\n",
            "Random Forest Accuracy Score:  0.9412915851272016\n",
            "Boosting Accuracy Score:  0.9399869536855838\n"
          ],
          "name": "stdout"
        }
      ]
    },
    {
      "cell_type": "markdown",
      "metadata": {
        "id": "uUwggXp_ipNF"
      },
      "source": [
        "Random Forest has highest accuracy: 0.939"
      ]
    },
    {
      "cell_type": "markdown",
      "metadata": {
        "id": "L28zVtLqdJ_3"
      },
      "source": [
        "Voting Classifier\n",
        "\n",
        "\n"
      ]
    },
    {
      "cell_type": "code",
      "metadata": {
        "id": "8w2OI2prdJnL",
        "colab": {
          "base_uri": "https://localhost:8080/"
        },
        "outputId": "a29d4677-56de-4299-c246-f686b7fc5e23"
      },
      "source": [
        "from sklearn.ensemble import RandomForestClassifier, VotingClassifier\n",
        "from sklearn.svm import SVC\n",
        "from sklearn.linear_model import LogisticRegression\n",
        "\n",
        "logClf = LogisticRegression(random_state=42)\n",
        "dtClf = DecisionTreeClassifier(criterion='entropy',random_state=42)\n",
        "baggingClf = BaggingClassifier(base_estimator = DecisionTreeClassifier(), n_estimators=10, random_state = 42)\n",
        "rfClf = RandomForestClassifier(n_estimators=100, max_features=7, random_state=42)\n",
        "boostClf = AdaBoostClassifier(base_est, n_estimators=200, random_state=42, learning_rate=.05)\n",
        "\n",
        "\n",
        "clf2 = VotingClassifier(estimators = [('log', logClf), ('dt', dtClf), ('bag',baggingClf), ('rf', rfClf), ('boost', boostClf)], voting='soft') \n",
        "\n",
        "\n",
        "clf2.fit(X_train, y_train)\n",
        "\n",
        "clf2_pred = clf2.predict(X_test)\n",
        "\n",
        "\n",
        "print('Voting Accuracy score', accuracy_score(y_test, clf2_pred))\n",
        "\n"
      ],
      "execution_count": 50,
      "outputs": [
        {
          "output_type": "stream",
          "text": [
            "/usr/local/lib/python3.7/dist-packages/sklearn/linear_model/_logistic.py:940: ConvergenceWarning: lbfgs failed to converge (status=1):\n",
            "STOP: TOTAL NO. of ITERATIONS REACHED LIMIT.\n",
            "\n",
            "Increase the number of iterations (max_iter) or scale the data as shown in:\n",
            "    https://scikit-learn.org/stable/modules/preprocessing.html\n",
            "Please also refer to the documentation for alternative solver options:\n",
            "    https://scikit-learn.org/stable/modules/linear_model.html#logistic-regression\n",
            "  extra_warning_msg=_LOGISTIC_SOLVER_CONVERGENCE_MSG)\n"
          ],
          "name": "stderr"
        },
        {
          "output_type": "stream",
          "text": [
            "Voting Accuracy score 0.9275929549902152\n"
          ],
          "name": "stdout"
        }
      ]
    },
    {
      "cell_type": "markdown",
      "metadata": {
        "id": "EsQe9Yrki1cy"
      },
      "source": [
        "Voting classifier performs worse than Random Forest itself, hence Random Forest is the optimal model for this dataset. Additionally, Random Forest allows us to idenfity important features (drop any that are irrelevant)."
      ]
    },
    {
      "cell_type": "markdown",
      "metadata": {
        "id": "zUpxrtvIjAkX"
      },
      "source": [
        "Fine Tune Random Forest\n"
      ]
    },
    {
      "cell_type": "code",
      "metadata": {
        "colab": {
          "base_uri": "https://localhost:8080/"
        },
        "id": "FS-3FDLr2Uaw",
        "outputId": "009743ea-7c47-4fe1-c695-a0f9ed227e4e"
      },
      "source": [
        "from sklearn.model_selection import RandomizedSearchCV\n",
        "\n",
        "\n",
        "# fine Tune the model using RandomizedSearchCV\n",
        "\n",
        "parameters= {'n_estimators':[400,500],\n",
        "            'max_depth':[7,10],\n",
        "            'max_features':[4,5],\n",
        "            'min_samples_split' : [100,150],\n",
        "            'min_samples_leaf' : [30,40]}\n",
        "\n",
        "\n",
        "rf = RandomForestClassifier()\n",
        "\n",
        "rf_model_tune = RandomizedSearchCV(rf, param_distributions = parameters, cv=3,n_iter = 20, verbose=2, random_state=42)\n",
        "\n",
        "rf_model_tune.fit(X_train,y_train)\n",
        "\n"
      ],
      "execution_count": 51,
      "outputs": [
        {
          "output_type": "stream",
          "text": [
            "Fitting 3 folds for each of 20 candidates, totalling 60 fits\n",
            "[CV] n_estimators=500, min_samples_split=100, min_samples_leaf=40, max_features=5, max_depth=10 \n"
          ],
          "name": "stdout"
        },
        {
          "output_type": "stream",
          "text": [
            "[Parallel(n_jobs=1)]: Using backend SequentialBackend with 1 concurrent workers.\n"
          ],
          "name": "stderr"
        },
        {
          "output_type": "stream",
          "text": [
            "[CV]  n_estimators=500, min_samples_split=100, min_samples_leaf=40, max_features=5, max_depth=10, total=   2.5s\n",
            "[CV] n_estimators=500, min_samples_split=100, min_samples_leaf=40, max_features=5, max_depth=10 \n"
          ],
          "name": "stdout"
        },
        {
          "output_type": "stream",
          "text": [
            "[Parallel(n_jobs=1)]: Done   1 out of   1 | elapsed:    2.5s remaining:    0.0s\n"
          ],
          "name": "stderr"
        },
        {
          "output_type": "stream",
          "text": [
            "[CV]  n_estimators=500, min_samples_split=100, min_samples_leaf=40, max_features=5, max_depth=10, total=   2.5s\n",
            "[CV] n_estimators=500, min_samples_split=100, min_samples_leaf=40, max_features=5, max_depth=10 \n",
            "[CV]  n_estimators=500, min_samples_split=100, min_samples_leaf=40, max_features=5, max_depth=10, total=   2.4s\n",
            "[CV] n_estimators=500, min_samples_split=150, min_samples_leaf=40, max_features=5, max_depth=7 \n",
            "[CV]  n_estimators=500, min_samples_split=150, min_samples_leaf=40, max_features=5, max_depth=7, total=   2.4s\n",
            "[CV] n_estimators=500, min_samples_split=150, min_samples_leaf=40, max_features=5, max_depth=7 \n",
            "[CV]  n_estimators=500, min_samples_split=150, min_samples_leaf=40, max_features=5, max_depth=7, total=   2.4s\n",
            "[CV] n_estimators=500, min_samples_split=150, min_samples_leaf=40, max_features=5, max_depth=7 \n",
            "[CV]  n_estimators=500, min_samples_split=150, min_samples_leaf=40, max_features=5, max_depth=7, total=   2.4s\n",
            "[CV] n_estimators=400, min_samples_split=100, min_samples_leaf=30, max_features=5, max_depth=10 \n",
            "[CV]  n_estimators=400, min_samples_split=100, min_samples_leaf=30, max_features=5, max_depth=10, total=   2.0s\n",
            "[CV] n_estimators=400, min_samples_split=100, min_samples_leaf=30, max_features=5, max_depth=10 \n",
            "[CV]  n_estimators=400, min_samples_split=100, min_samples_leaf=30, max_features=5, max_depth=10, total=   2.0s\n",
            "[CV] n_estimators=400, min_samples_split=100, min_samples_leaf=30, max_features=5, max_depth=10 \n",
            "[CV]  n_estimators=400, min_samples_split=100, min_samples_leaf=30, max_features=5, max_depth=10, total=   2.0s\n",
            "[CV] n_estimators=500, min_samples_split=100, min_samples_leaf=30, max_features=4, max_depth=10 \n",
            "[CV]  n_estimators=500, min_samples_split=100, min_samples_leaf=30, max_features=4, max_depth=10, total=   2.3s\n",
            "[CV] n_estimators=500, min_samples_split=100, min_samples_leaf=30, max_features=4, max_depth=10 \n",
            "[CV]  n_estimators=500, min_samples_split=100, min_samples_leaf=30, max_features=4, max_depth=10, total=   2.2s\n",
            "[CV] n_estimators=500, min_samples_split=100, min_samples_leaf=30, max_features=4, max_depth=10 \n",
            "[CV]  n_estimators=500, min_samples_split=100, min_samples_leaf=30, max_features=4, max_depth=10, total=   2.2s\n",
            "[CV] n_estimators=400, min_samples_split=100, min_samples_leaf=30, max_features=5, max_depth=7 \n",
            "[CV]  n_estimators=400, min_samples_split=100, min_samples_leaf=30, max_features=5, max_depth=7, total=   1.9s\n",
            "[CV] n_estimators=400, min_samples_split=100, min_samples_leaf=30, max_features=5, max_depth=7 \n",
            "[CV]  n_estimators=400, min_samples_split=100, min_samples_leaf=30, max_features=5, max_depth=7, total=   1.9s\n",
            "[CV] n_estimators=400, min_samples_split=100, min_samples_leaf=30, max_features=5, max_depth=7 \n",
            "[CV]  n_estimators=400, min_samples_split=100, min_samples_leaf=30, max_features=5, max_depth=7, total=   1.9s\n",
            "[CV] n_estimators=500, min_samples_split=100, min_samples_leaf=30, max_features=5, max_depth=7 \n",
            "[CV]  n_estimators=500, min_samples_split=100, min_samples_leaf=30, max_features=5, max_depth=7, total=   2.4s\n",
            "[CV] n_estimators=500, min_samples_split=100, min_samples_leaf=30, max_features=5, max_depth=7 \n",
            "[CV]  n_estimators=500, min_samples_split=100, min_samples_leaf=30, max_features=5, max_depth=7, total=   2.5s\n",
            "[CV] n_estimators=500, min_samples_split=100, min_samples_leaf=30, max_features=5, max_depth=7 \n",
            "[CV]  n_estimators=500, min_samples_split=100, min_samples_leaf=30, max_features=5, max_depth=7, total=   2.4s\n",
            "[CV] n_estimators=400, min_samples_split=150, min_samples_leaf=40, max_features=5, max_depth=10 \n",
            "[CV]  n_estimators=400, min_samples_split=150, min_samples_leaf=40, max_features=5, max_depth=10, total=   1.9s\n",
            "[CV] n_estimators=400, min_samples_split=150, min_samples_leaf=40, max_features=5, max_depth=10 \n",
            "[CV]  n_estimators=400, min_samples_split=150, min_samples_leaf=40, max_features=5, max_depth=10, total=   1.9s\n",
            "[CV] n_estimators=400, min_samples_split=150, min_samples_leaf=40, max_features=5, max_depth=10 \n",
            "[CV]  n_estimators=400, min_samples_split=150, min_samples_leaf=40, max_features=5, max_depth=10, total=   1.9s\n",
            "[CV] n_estimators=500, min_samples_split=100, min_samples_leaf=30, max_features=5, max_depth=10 \n",
            "[CV]  n_estimators=500, min_samples_split=100, min_samples_leaf=30, max_features=5, max_depth=10, total=   2.5s\n",
            "[CV] n_estimators=500, min_samples_split=100, min_samples_leaf=30, max_features=5, max_depth=10 \n",
            "[CV]  n_estimators=500, min_samples_split=100, min_samples_leaf=30, max_features=5, max_depth=10, total=   2.5s\n",
            "[CV] n_estimators=500, min_samples_split=100, min_samples_leaf=30, max_features=5, max_depth=10 \n",
            "[CV]  n_estimators=500, min_samples_split=100, min_samples_leaf=30, max_features=5, max_depth=10, total=   2.5s\n",
            "[CV] n_estimators=400, min_samples_split=100, min_samples_leaf=40, max_features=5, max_depth=7 \n",
            "[CV]  n_estimators=400, min_samples_split=100, min_samples_leaf=40, max_features=5, max_depth=7, total=   1.9s\n",
            "[CV] n_estimators=400, min_samples_split=100, min_samples_leaf=40, max_features=5, max_depth=7 \n",
            "[CV]  n_estimators=400, min_samples_split=100, min_samples_leaf=40, max_features=5, max_depth=7, total=   1.9s\n",
            "[CV] n_estimators=400, min_samples_split=100, min_samples_leaf=40, max_features=5, max_depth=7 \n",
            "[CV]  n_estimators=400, min_samples_split=100, min_samples_leaf=40, max_features=5, max_depth=7, total=   1.9s\n",
            "[CV] n_estimators=400, min_samples_split=100, min_samples_leaf=30, max_features=4, max_depth=7 \n",
            "[CV]  n_estimators=400, min_samples_split=100, min_samples_leaf=30, max_features=4, max_depth=7, total=   1.8s\n",
            "[CV] n_estimators=400, min_samples_split=100, min_samples_leaf=30, max_features=4, max_depth=7 \n",
            "[CV]  n_estimators=400, min_samples_split=100, min_samples_leaf=30, max_features=4, max_depth=7, total=   1.7s\n",
            "[CV] n_estimators=400, min_samples_split=100, min_samples_leaf=30, max_features=4, max_depth=7 \n",
            "[CV]  n_estimators=400, min_samples_split=100, min_samples_leaf=30, max_features=4, max_depth=7, total=   1.7s\n",
            "[CV] n_estimators=400, min_samples_split=100, min_samples_leaf=40, max_features=4, max_depth=7 \n",
            "[CV]  n_estimators=400, min_samples_split=100, min_samples_leaf=40, max_features=4, max_depth=7, total=   1.7s\n",
            "[CV] n_estimators=400, min_samples_split=100, min_samples_leaf=40, max_features=4, max_depth=7 \n",
            "[CV]  n_estimators=400, min_samples_split=100, min_samples_leaf=40, max_features=4, max_depth=7, total=   1.7s\n",
            "[CV] n_estimators=400, min_samples_split=100, min_samples_leaf=40, max_features=4, max_depth=7 \n",
            "[CV]  n_estimators=400, min_samples_split=100, min_samples_leaf=40, max_features=4, max_depth=7, total=   1.7s\n",
            "[CV] n_estimators=400, min_samples_split=100, min_samples_leaf=30, max_features=4, max_depth=10 \n",
            "[CV]  n_estimators=400, min_samples_split=100, min_samples_leaf=30, max_features=4, max_depth=10, total=   1.8s\n",
            "[CV] n_estimators=400, min_samples_split=100, min_samples_leaf=30, max_features=4, max_depth=10 \n",
            "[CV]  n_estimators=400, min_samples_split=100, min_samples_leaf=30, max_features=4, max_depth=10, total=   1.8s\n",
            "[CV] n_estimators=400, min_samples_split=100, min_samples_leaf=30, max_features=4, max_depth=10 \n",
            "[CV]  n_estimators=400, min_samples_split=100, min_samples_leaf=30, max_features=4, max_depth=10, total=   1.8s\n",
            "[CV] n_estimators=500, min_samples_split=100, min_samples_leaf=40, max_features=4, max_depth=7 \n",
            "[CV]  n_estimators=500, min_samples_split=100, min_samples_leaf=40, max_features=4, max_depth=7, total=   2.1s\n",
            "[CV] n_estimators=500, min_samples_split=100, min_samples_leaf=40, max_features=4, max_depth=7 \n",
            "[CV]  n_estimators=500, min_samples_split=100, min_samples_leaf=40, max_features=4, max_depth=7, total=   2.2s\n",
            "[CV] n_estimators=500, min_samples_split=100, min_samples_leaf=40, max_features=4, max_depth=7 \n",
            "[CV]  n_estimators=500, min_samples_split=100, min_samples_leaf=40, max_features=4, max_depth=7, total=   2.1s\n",
            "[CV] n_estimators=500, min_samples_split=100, min_samples_leaf=40, max_features=5, max_depth=7 \n",
            "[CV]  n_estimators=500, min_samples_split=100, min_samples_leaf=40, max_features=5, max_depth=7, total=   2.4s\n",
            "[CV] n_estimators=500, min_samples_split=100, min_samples_leaf=40, max_features=5, max_depth=7 \n",
            "[CV]  n_estimators=500, min_samples_split=100, min_samples_leaf=40, max_features=5, max_depth=7, total=   2.4s\n",
            "[CV] n_estimators=500, min_samples_split=100, min_samples_leaf=40, max_features=5, max_depth=7 \n",
            "[CV]  n_estimators=500, min_samples_split=100, min_samples_leaf=40, max_features=5, max_depth=7, total=   2.4s\n",
            "[CV] n_estimators=500, min_samples_split=150, min_samples_leaf=30, max_features=5, max_depth=7 \n",
            "[CV]  n_estimators=500, min_samples_split=150, min_samples_leaf=30, max_features=5, max_depth=7, total=   2.4s\n",
            "[CV] n_estimators=500, min_samples_split=150, min_samples_leaf=30, max_features=5, max_depth=7 \n",
            "[CV]  n_estimators=500, min_samples_split=150, min_samples_leaf=30, max_features=5, max_depth=7, total=   2.4s\n",
            "[CV] n_estimators=500, min_samples_split=150, min_samples_leaf=30, max_features=5, max_depth=7 \n",
            "[CV]  n_estimators=500, min_samples_split=150, min_samples_leaf=30, max_features=5, max_depth=7, total=   2.4s\n",
            "[CV] n_estimators=500, min_samples_split=150, min_samples_leaf=40, max_features=4, max_depth=10 \n",
            "[CV]  n_estimators=500, min_samples_split=150, min_samples_leaf=40, max_features=4, max_depth=10, total=   2.2s\n",
            "[CV] n_estimators=500, min_samples_split=150, min_samples_leaf=40, max_features=4, max_depth=10 \n",
            "[CV]  n_estimators=500, min_samples_split=150, min_samples_leaf=40, max_features=4, max_depth=10, total=   2.1s\n",
            "[CV] n_estimators=500, min_samples_split=150, min_samples_leaf=40, max_features=4, max_depth=10 \n",
            "[CV]  n_estimators=500, min_samples_split=150, min_samples_leaf=40, max_features=4, max_depth=10, total=   2.1s\n",
            "[CV] n_estimators=500, min_samples_split=100, min_samples_leaf=30, max_features=4, max_depth=7 \n",
            "[CV]  n_estimators=500, min_samples_split=100, min_samples_leaf=30, max_features=4, max_depth=7, total=   2.2s\n",
            "[CV] n_estimators=500, min_samples_split=100, min_samples_leaf=30, max_features=4, max_depth=7 \n",
            "[CV]  n_estimators=500, min_samples_split=100, min_samples_leaf=30, max_features=4, max_depth=7, total=   2.2s\n",
            "[CV] n_estimators=500, min_samples_split=100, min_samples_leaf=30, max_features=4, max_depth=7 \n",
            "[CV]  n_estimators=500, min_samples_split=100, min_samples_leaf=30, max_features=4, max_depth=7, total=   2.2s\n",
            "[CV] n_estimators=400, min_samples_split=150, min_samples_leaf=30, max_features=4, max_depth=7 \n",
            "[CV]  n_estimators=400, min_samples_split=150, min_samples_leaf=30, max_features=4, max_depth=7, total=   1.8s\n",
            "[CV] n_estimators=400, min_samples_split=150, min_samples_leaf=30, max_features=4, max_depth=7 \n",
            "[CV]  n_estimators=400, min_samples_split=150, min_samples_leaf=30, max_features=4, max_depth=7, total=   1.7s\n",
            "[CV] n_estimators=400, min_samples_split=150, min_samples_leaf=30, max_features=4, max_depth=7 \n",
            "[CV]  n_estimators=400, min_samples_split=150, min_samples_leaf=30, max_features=4, max_depth=7, total=   1.7s\n",
            "[CV] n_estimators=400, min_samples_split=150, min_samples_leaf=30, max_features=5, max_depth=10 \n",
            "[CV]  n_estimators=400, min_samples_split=150, min_samples_leaf=30, max_features=5, max_depth=10, total=   2.0s\n",
            "[CV] n_estimators=400, min_samples_split=150, min_samples_leaf=30, max_features=5, max_depth=10 \n",
            "[CV]  n_estimators=400, min_samples_split=150, min_samples_leaf=30, max_features=5, max_depth=10, total=   2.0s\n",
            "[CV] n_estimators=400, min_samples_split=150, min_samples_leaf=30, max_features=5, max_depth=10 \n",
            "[CV]  n_estimators=400, min_samples_split=150, min_samples_leaf=30, max_features=5, max_depth=10, total=   2.0s\n",
            "[CV] n_estimators=500, min_samples_split=150, min_samples_leaf=30, max_features=4, max_depth=7 \n",
            "[CV]  n_estimators=500, min_samples_split=150, min_samples_leaf=30, max_features=4, max_depth=7, total=   2.1s\n",
            "[CV] n_estimators=500, min_samples_split=150, min_samples_leaf=30, max_features=4, max_depth=7 \n",
            "[CV]  n_estimators=500, min_samples_split=150, min_samples_leaf=30, max_features=4, max_depth=7, total=   2.1s\n",
            "[CV] n_estimators=500, min_samples_split=150, min_samples_leaf=30, max_features=4, max_depth=7 \n",
            "[CV]  n_estimators=500, min_samples_split=150, min_samples_leaf=30, max_features=4, max_depth=7, total=   2.1s\n"
          ],
          "name": "stdout"
        },
        {
          "output_type": "stream",
          "text": [
            "[Parallel(n_jobs=1)]: Done  60 out of  60 | elapsed:  2.1min finished\n"
          ],
          "name": "stderr"
        },
        {
          "output_type": "execute_result",
          "data": {
            "text/plain": [
              "RandomizedSearchCV(cv=3, error_score=nan,\n",
              "                   estimator=RandomForestClassifier(bootstrap=True,\n",
              "                                                    ccp_alpha=0.0,\n",
              "                                                    class_weight=None,\n",
              "                                                    criterion='gini',\n",
              "                                                    max_depth=None,\n",
              "                                                    max_features='auto',\n",
              "                                                    max_leaf_nodes=None,\n",
              "                                                    max_samples=None,\n",
              "                                                    min_impurity_decrease=0.0,\n",
              "                                                    min_impurity_split=None,\n",
              "                                                    min_samples_leaf=1,\n",
              "                                                    min_samples_split=2,\n",
              "                                                    min_weight_fraction_leaf=0.0,\n",
              "                                                    n_estimators=100,\n",
              "                                                    n_jobs=None,\n",
              "                                                    oob_score=False,\n",
              "                                                    random_state=None,\n",
              "                                                    verbose=0,\n",
              "                                                    warm_start=False),\n",
              "                   iid='deprecated', n_iter=20, n_jobs=None,\n",
              "                   param_distributions={'max_depth': [7, 10],\n",
              "                                        'max_features': [4, 5],\n",
              "                                        'min_samples_leaf': [30, 40],\n",
              "                                        'min_samples_split': [100, 150],\n",
              "                                        'n_estimators': [400, 500]},\n",
              "                   pre_dispatch='2*n_jobs', random_state=42, refit=True,\n",
              "                   return_train_score=False, scoring=None, verbose=2)"
            ]
          },
          "metadata": {
            "tags": []
          },
          "execution_count": 51
        }
      ]
    },
    {
      "cell_type": "code",
      "metadata": {
        "colab": {
          "base_uri": "https://localhost:8080/"
        },
        "id": "ksGkHJUq3Rh-",
        "outputId": "89d822e5-82b3-4086-abba-95260bb44509"
      },
      "source": [
        "rf_model_tune.best_params_"
      ],
      "execution_count": 52,
      "outputs": [
        {
          "output_type": "execute_result",
          "data": {
            "text/plain": [
              "{'max_depth': 10,\n",
              " 'max_features': 5,\n",
              " 'min_samples_leaf': 30,\n",
              " 'min_samples_split': 100,\n",
              " 'n_estimators': 400}"
            ]
          },
          "metadata": {
            "tags": []
          },
          "execution_count": 52
        }
      ]
    },
    {
      "cell_type": "code",
      "metadata": {
        "colab": {
          "base_uri": "https://localhost:8080/"
        },
        "id": "cpRww7LB3XPC",
        "outputId": "7bccac0a-229d-47c9-9883-f88b226e6d05"
      },
      "source": [
        "# create model with best params\n",
        "model_rf = RandomForestClassifier(n_estimators= 400,min_samples_split= 100,min_samples_leaf=30,max_features= 5,max_depth=10)\n",
        "\n",
        "# fit the model\n",
        "model_rf.fit(X_train,y_train)\n",
        "\n",
        "# model score\n",
        "predict_train_RF = model_rf.predict(X_train)\n",
        "predict_test_RF = model_rf.predict(X_test)\n",
        "\n",
        "# accuracy score\n",
        "RF_train_score = model_rf.score(X_train,y_train)\n",
        "RF_test_score = model_rf.score(X_test,y_test)\n",
        "\n",
        "\n",
        "print('Accuracy on Train set',RF_train_score)\n",
        "print('Accuracy on Test set',RF_test_score)\n",
        "\n"
      ],
      "execution_count": 53,
      "outputs": [
        {
          "output_type": "stream",
          "text": [
            "Accuracy on Train set 0.9640035118525022\n",
            "Accuracy on Test set 0.9354207436399217\n"
          ],
          "name": "stdout"
        }
      ]
    },
    {
      "cell_type": "markdown",
      "metadata": {
        "id": "gtf205ANjLqJ"
      },
      "source": [
        "\n",
        "Feature Importance"
      ]
    },
    {
      "cell_type": "code",
      "metadata": {
        "colab": {
          "base_uri": "https://localhost:8080/"
        },
        "id": "MkGyT9pwyfjE",
        "outputId": "e80ec9a7-8067-40d0-bb4b-16df574e259d"
      },
      "source": [
        "columns_ = df.iloc[:1, 1:].columns\n",
        "feature_importances = pd.DataFrame(model_rf.feature_importances_,index = columns_,columns=['importance']).sort_values('importance',ascending=False)\n",
        "print(feature_importances)"
      ],
      "execution_count": 54,
      "outputs": [
        {
          "output_type": "stream",
          "text": [
            "                                importance\n",
            "age                               0.250965\n",
            "ever_married_No                   0.069915\n",
            "hypertension_1                    0.069027\n",
            "ever_married_Yes                  0.067130\n",
            "hypertension_0                    0.065231\n",
            "heart_disease_0                   0.054890\n",
            "heart_disease_1                   0.049672\n",
            "Residence_type_Urban              0.044059\n",
            "Residence_type_Rural              0.042906\n",
            "smoking_status_never smoked       0.040955\n",
            "smoking_status_formerly smoked    0.038660\n",
            "smoking_status_Unknown            0.031812\n",
            "work_type_Private                 0.031284\n",
            "gender_Female                     0.030033\n",
            "gender_Male                       0.030025\n",
            "avg_glucose_level                 0.021714\n",
            "smoking_status_smokes             0.021220\n",
            "work_type_Self-employed           0.020768\n",
            "work_type_Govt_job                0.010567\n",
            "bmi                               0.008863\n",
            "work_type_children                0.000304\n",
            "gender_Other                      0.000000\n",
            "work_type_Never_worked            0.000000\n"
          ],
          "name": "stdout"
        }
      ]
    },
    {
      "cell_type": "markdown",
      "metadata": {
        "id": "m-TX4j-pjUuP"
      },
      "source": [
        "Classifying a sample patient with the below attributes:\n",
        "\n",
        "Age: 67\n",
        "\n",
        "Average glucose level: 240\n",
        "\n",
        "Bmi: 50\n",
        "\n",
        "Fender: Male\n",
        "\n",
        "Hypertension: No\n",
        "\n",
        "Heart Disease: Yes\n",
        "\n",
        "Ever Married: Yes\n",
        "\n",
        "Work Type: Private\n",
        "\n",
        "Residence Type: Urban\n",
        "\n",
        "Smoking Status: Formerly Smoked\n",
        "\n"
      ]
    },
    {
      "cell_type": "code",
      "metadata": {
        "colab": {
          "base_uri": "https://localhost:8080/"
        },
        "id": "vp00xsn473ZR",
        "outputId": "693e8e45-de24-4758-87b0-4fb840db99c2"
      },
      "source": [
        "dfcopy = df.copy()\n",
        "df2 = {'stroke':0,'age':67, 'avg_glucose_level':240, 'bmi':50, 'gender_Female':0,\n",
        "       'gender_Male':1, 'gender_Other':0, 'hypertension_0':1, 'hypertension_1':0,\n",
        "       'heart_disease_0':0, 'heart_disease_1':1, 'ever_married_No':0,\n",
        "       'ever_married_Yes':1, 'work_type_Govt_job':0, 'work_type_Never_worked':0,\n",
        "       'work_type_Private':1, 'work_type_Self-employed':0, 'work_type_children':0,\n",
        "       'Residence_type_Rural':0, 'Residence_type_Urban':1,\n",
        "       'smoking_status_Unknown':0, 'smoking_status_formerly smoked':1,\n",
        "       'smoking_status_never smoked':0, 'smoking_status_smokes':0}\n",
        "\n",
        "dfcopy = dfcopy.append(df2, ignore_index = True)\n",
        "x2 = dfcopy.iloc[-1:, 1:]\n",
        "print(x2)\n",
        "y2 = model_rf.predict(x2)\n",
        "print(y2)\n",
        "\n"
      ],
      "execution_count": 55,
      "outputs": [
        {
          "output_type": "stream",
          "text": [
            "       age  ...  smoking_status_smokes\n",
            "5110  67.0  ...                      0\n",
            "\n",
            "[1 rows x 23 columns]\n",
            "[1]\n"
          ],
          "name": "stdout"
        }
      ]
    }
  ]
}
